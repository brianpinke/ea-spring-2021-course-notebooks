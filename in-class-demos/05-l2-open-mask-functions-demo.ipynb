{
 "cells": [
  {
   "cell_type": "markdown",
   "metadata": {},
   "source": [
    "## Begin to Automate Your  Workflow With Functions\n",
    "\n",
    "Functions can be tricky to learn. In this lesson, you will see how to break down a workflow and create \n",
    "a new function that can be used over and over on your data. \n",
    "\n",
    "You will want to use functions for this automation assignment. "
   ]
  },
  {
   "cell_type": "code",
   "execution_count": null,
   "metadata": {},
   "outputs": [],
   "source": [
    "# Import necessary packages\n",
    "import os\n",
    "from glob import glob\n",
    "\n",
    "import matplotlib.pyplot as plt\n",
    "import numpy as np\n",
    "import geopandas as gpd\n",
    "import rioxarray as rxr\n",
    "import xarray as xr\n",
    "from rasterio.plot import plotting_extent\n",
    "from shapely.geometry import mapping\n",
    "import earthpy as et\n",
    "import earthpy.spatial as es\n",
    "import earthpy.plot as ep\n",
    "\n",
    "# Get data and set working directory\n",
    "data = et.data.get_data('cold-springs-fire')\n",
    "os.chdir(os.path.join(et.io.HOME,\n",
    "                      \"earth-analytics\",\n",
    "                      \"data\"))"
   ]
  },
  {
   "cell_type": "code",
   "execution_count": null,
   "metadata": {},
   "outputs": [],
   "source": [
    "# Get a list of each directory\n",
    "path = os.path.join(\"ndvi-automation\", \"sites\")\n",
    "\n",
    "# Get a list of both site directories (We will talk more about automation next week)\n",
    "sites = glob(path + \"/*/\")\n",
    "sites"
   ]
  },
  {
   "cell_type": "code",
   "execution_count": null,
   "metadata": {},
   "outputs": [],
   "source": [
    "# Get the site name\n",
    "site_name = os.path.basename(os.path.normpath(sites[0]))\n",
    "site_name"
   ]
  },
  {
   "cell_type": "code",
   "execution_count": null,
   "metadata": {},
   "outputs": [],
   "source": [
    "# Open up the shapefile for clipping your landsat data to the study area\n",
    "vector_dir = os.path.join(sites[0],\n",
    "                          \"vector\")\n",
    "\n",
    "# Open crop boundary\n",
    "site_boundary_path = os.path.join(vector_dir,  site_name + \"-crop.shp\")\n",
    "crop_bound = gpd.read_file(site_boundary_path)\n",
    "crop_bound.plot()"
   ]
  },
  {
   "cell_type": "code",
   "execution_count": null,
   "metadata": {},
   "outputs": [],
   "source": [
    "landsat_dir = os.path.join(sites[0],\n",
    "                           \"landsat-crop\")\n",
    "# This is the crop folder containing all of the .tif files\n",
    "landsat_dir"
   ]
  },
  {
   "cell_type": "code",
   "execution_count": null,
   "metadata": {},
   "outputs": [],
   "source": [
    "# There are many subdirectories in here -- i will create a video that helps explain this\n",
    "# process of creating lists of subdirectories  more for next week.\n",
    "landsat_dirs = glob(os.path.join(landsat_dir, \"LC08*\"))\n",
    "landsat_dirs.sort()\n",
    "landsat_dirs"
   ]
  },
  {
   "cell_type": "code",
   "execution_count": null,
   "metadata": {},
   "outputs": [],
   "source": [
    "# Select just a single directory and grab bands 4-5 from the directory\n",
    "adir = landsat_dirs[3]\n",
    "# Open bands\n",
    "band_paths = glob(os.path.join(adir, \"*band*[4-5].tif\"))\n",
    "band_paths.sort()\n",
    "band_paths"
   ]
  },
  {
   "cell_type": "markdown",
   "metadata": {},
   "source": [
    "The focus of today is to look at using functions to apply cloud masks. I will create a video\n",
    "for  next weeks' course that walks you through the above steps of automating\n",
    "your workflow! Essentially you will want to create some for loops to cycle through\n",
    "each set of sub directories. \n",
    "\n",
    "\n",
    "## Process a Single Band\n",
    "\n",
    "There are two approaches that you could use here to create NDVI. You could chose to combine both \n",
    "bands into a single xarray object or because there are only two bands, you could process each individually.\n",
    "\n"
   ]
  },
  {
   "cell_type": "code",
   "execution_count": null,
   "metadata": {},
   "outputs": [],
   "source": [
    "band_paths"
   ]
  },
  {
   "cell_type": "markdown",
   "metadata": {},
   "source": [
    "### A Function  Worthy Workflow?\n",
    "\n",
    "Below is a workflow that you will need to repeat over and over across all bands. \n",
    "\n",
    "Normally, when you are developing workflows you write it all out first using  a combination  of \n",
    "pseudocode and code. You fill in code and processing gaps as you go.\n",
    "\n",
    "You can then see places where functions might be useful.\n",
    "Some people start by deciding what functions they need. This is even more efficient but \n",
    "can be challenging if you are newer to data processing and programming.\n",
    "\n",
    "Functions are useful for many different reasons - a few are below:\n",
    "\n",
    "1. **They clean up your code following DRY (Dont Repeat Yourself):** ensuring you aren't repeating code. \n",
    "2. **They make changes to your code more efficient:** Once you have a function that is used over and over, any changes can be made  within that function! This is a win for you if you need to make updates\n",
    "3. **They conserve resources by removing objects from memory:** Objects created within a function aren't available in the broader namespace (environment) of your notebook. Objects made wtihin the function are created why the function runs and then thrown away saving your compute resources. This makes your code cleaner and more efficient! "
   ]
  },
  {
   "cell_type": "code",
   "execution_count": null,
   "metadata": {},
   "outputs": [],
   "source": [
    "# Open a single band using rioxarray\n",
    "band = rxr.open_rasterio(band_paths[0], masked=True).squeeze()\n",
    "# Clip the data\n",
    "band_crop = band.rio.clip(crop_bound.geometry.apply(mapping))\n",
    "\n",
    "# Specify the valid range of values for landsat\n",
    "valid_range = (0, 10000)\n",
    "\n",
    "if valid_range:\n",
    "    mask = ((band_crop < valid_range[0]) | (band_crop > valid_range[1]))\n",
    "    band_crop = band_crop.where(~xr.where(mask, True, False))\n",
    "\n",
    "band_crop"
   ]
  },
  {
   "cell_type": "code",
   "execution_count": null,
   "metadata": {},
   "outputs": [],
   "source": [
    "#  This function has the code from the workflow above\n",
    "def open_clean_bands(band_path,\n",
    "                     valid_range=None):\n",
    "    \"\"\"Open and mask a single landsat band using a pixel_qa layer.\n",
    "\n",
    "    Parameters\n",
    "    -----------\n",
    "    band_path : string\n",
    "        A path to the array to be opened\n",
    "    valid_range : tuple (optional)\n",
    "        A tuple of min and max range of values for the data. Default = None\n",
    "\n",
    "\n",
    "    Returns\n",
    "    -----------\n",
    "    arr : xarray DataArray\n",
    "        An xarray DataArray with values that should be masked set to 1 for True (Boolean)\n",
    "    \"\"\"\n",
    "    # TODO add tests to ensure the arrays are the same .shape\n",
    "    band = rxr.open_rasterio(band_path, masked=True).squeeze()\n",
    "\n",
    "    # Only run this step if a valid range tuple is provided\n",
    "    if valid_range:\n",
    "        mask = ((band < valid_range[0]) | (band > valid_range[1]))\n",
    "        band = band.where(~xr.where(mask, True, False))\n",
    "\n",
    "    return band"
   ]
  },
  {
   "cell_type": "markdown",
   "metadata": {},
   "source": [
    "## Apply your function\n",
    "\n",
    "Using this function you can now crop and mask a single band in a single step!\n",
    "Yes you could also chose to process multiple bands in this function or concat the \n",
    "\n",
    "xarray objects - there is where you could spend some time optimizing your code "
   ]
  },
  {
   "cell_type": "code",
   "execution_count": null,
   "metadata": {},
   "outputs": [],
   "source": [
    "# Open and clean a single band\n",
    "band_4 = open_clean_bands(band_path=band_paths[0],\n",
    "                          # The range of valid values for landsat can include negative values\n",
    "                          # for this week let's stick with 0-10000\n",
    "                          valid_range=(0, 10000))"
   ]
  },
  {
   "cell_type": "markdown",
   "metadata": {},
   "source": [
    "## But what about band 5?\n",
    "\n",
    "There are decisions to be made here. For NDVI calculations you will want to have both  bands. \n",
    "You could chose to calculate each manually like this:"
   ]
  },
  {
   "cell_type": "code",
   "execution_count": null,
   "metadata": {},
   "outputs": [],
   "source": [
    "# Open and clean a single band\n",
    "band_4 = open_clean_bands(band_path=band_paths[0],\n",
    "                          # The range of valid values for landsat can include negative values\n",
    "                          # for this week let's stick with 0-10000\n",
    "                          valid_range=(0, 10000))\n",
    "\n",
    "# Open and clean a single band\n",
    "band_5 = open_clean_bands(band_path=band_paths[1],\n",
    "                          # The range of valid values for landsat can include negative values\n",
    "                          # for this week let's stick with 0-10000\n",
    "                          valid_range=(0, 10000))\n",
    "\n",
    "#  Then  calculate NDVI\n",
    "ndvi = es.normalized_diff(band_5.values.astype('f4'),\n",
    "                          band_4.values.astype('f4'))\n",
    "ep.plot_bands(ndvi,\n",
    "              cmap='PiYG',\n",
    "              vmin=-1)\n",
    "plt.show()"
   ]
  },
  {
   "cell_type": "markdown",
   "metadata": {},
   "source": [
    "Notice below the for loop removes some redundant code. "
   ]
  },
  {
   "cell_type": "code",
   "execution_count": null,
   "metadata": {},
   "outputs": [],
   "source": [
    "# Recall that band_paths is a list of 2 bands - bands 4 and 5\n",
    "# because  you sorted the data you know what order it will be in\n",
    "band_paths"
   ]
  },
  {
   "cell_type": "code",
   "execution_count": null,
   "metadata": {},
   "outputs": [],
   "source": [
    "# import pyproj\n",
    "# pyproj.set_use_global_context(True)"
   ]
  },
  {
   "cell_type": "code",
   "execution_count": null,
   "metadata": {},
   "outputs": [],
   "source": [
    "# %%timeit\n",
    "# uncomment the above if you want to time this cell -\n",
    "# i suggest commenting out the print statement in the for loop if you time the cell\n",
    "# Alternatively do this in a loop and create a list output -\n",
    "all_bands = []\n",
    "for aband in band_paths:\n",
    "    print(\"Opening up\", aband)\n",
    "    cleaned_band = open_clean_bands(band_path=aband,\n",
    "                                    # The range of valid values for landsat can include negative values\n",
    "                                    # for this week let's stick with 0-10000\n",
    "                                    valid_range=(0, 10000))\n",
    "    all_bands.append(cleaned_band)\n",
    "\n",
    "\n",
    "# Then calculate NDVI\n",
    "\n",
    "ndvi_2 = (all_bands[1]-all_bands[0]) / (all_bands[1]+all_bands[0])\n"
   ]
  },
  {
   "cell_type": "code",
   "execution_count": null,
   "metadata": {},
   "outputs": [],
   "source": [
    "# You will want to grab a mean value but this is just a demo\n",
    "ep.plot_bands(ndvi_2.values,\n",
    "              cmap='PiYG',\n",
    "              vmin=-1)\n",
    "plt.show()"
   ]
  },
  {
   "cell_type": "markdown",
   "metadata": {},
   "source": [
    "Almost  done -  time to crop your NDVI data using the function that you created above.  \n",
    "For the purposes fo your homework - you could consider returning a mean NDVI value for the clipped data\n",
    "as an option. \n",
    " "
   ]
  },
  {
   "cell_type": "code",
   "execution_count": null,
   "metadata": {},
   "outputs": [],
   "source": [
    "# Open up the cloud mask layer\n",
    "\n",
    "# Cloud no data vals for Landsat 8 -\n",
    "vals = [328, 392, 840, 904, 1350, 352, 368, 416,\n",
    "        432, 480, 864, 880, 928, 944, 992, 480, 992]\n",
    "\n",
    "# Open cloud mask layer\n",
    "qa_xr_path = glob(os.path.join(adir, \"*qa*\"))\n",
    "\n",
    "# Clip the cloud mask layer\n",
    "cl_mask = rxr.open_rasterio(qa_xr_path[0], masked=True).squeeze()\n",
    "\n",
    "# View unique values in the data -note that not every landsat band will have clouds to mask\n",
    "np.unique(cl_mask.values)"
   ]
  },
  {
   "cell_type": "markdown",
   "metadata": {},
   "source": [
    "## Create Final NDVI data\n",
    "\n",
    "Note that for your homework you are working towards a mean NDVI value so there is another step.\n",
    "You could decide to add that step to the NDVI function `mask_crop_ndvi` as an option!\n",
    "\n",
    "\n",
    "For each scene you will need to:\n",
    "    \n",
    "1. calculate NDVI\n",
    "2. Clip the data and \n",
    "3. apply the cloud mask\n",
    "\n",
    "You  may want to calculate a mean as well in this function."
   ]
  },
  {
   "cell_type": "code",
   "execution_count": null,
   "metadata": {},
   "outputs": [],
   "source": [
    "# Create clip object for NDVI and cloud  mask\n",
    "crop_json = crop_bound.geometry.apply(mapping)\n",
    "\n",
    "# Clip pixel qa cloud mask layer\n",
    "cl_mask_crop = cl_mask.rio.clip(crop_json)\n",
    "\n",
    "\n",
    "#  Calculate NDVI\n",
    "ndvi_xr = (all_bands[1]-all_bands[0]) / (all_bands[1]+all_bands[0])\n",
    "\n",
    "# Clip NDVI layer\n",
    "ndvi_crop = ndvi_xr.rio.clip(crop_json)\n",
    "\n",
    "\n",
    "\n",
    "# Apply cloud mask to NDVI\n",
    "ndvi_crop = ndvi_crop.where(~cl_mask_crop.isin(vals))"
   ]
  },
  {
   "cell_type": "markdown",
   "metadata": {},
   "source": [
    "The function below has more comments than you need. I've added them to it\n",
    "is clear what each line does. "
   ]
  },
  {
   "cell_type": "code",
   "execution_count": null,
   "metadata": {},
   "outputs": [],
   "source": [
    "# Turn  the above into a function\n",
    "#  This could also easily be two functions\n",
    "def mask_crop_ndvi(all_bands,\n",
    "                   crop_bound,\n",
    "                   pixel_qa,\n",
    "                   vals):\n",
    "    \"\"\"Open and mask a single landsat band using a pixel_qa layer.\n",
    "\n",
    "    Parameters\n",
    "    -----------\n",
    "    all_bands : list\n",
    "        a list containing the xarray objects for landsat  bands 4 and  5\n",
    "    crop_bound: geopandas GeoDataFrame\n",
    "        A geopandas dataframe to be used to crop the raster data using rasterio mask().\n",
    "    pixel_qa: xarray DataArray\n",
    "        An xarray DataArray with pixel qa values that have not yet been turned into a mask (0s and 1s)\n",
    "    vals: list\n",
    "        A list of values needed to create the cloud mask\n",
    "\n",
    "\n",
    "    Returns\n",
    "    -----------\n",
    "    ndvi_crop : Xarray Dataset\n",
    "        a cropped and masked xarray object containing NDVI values\n",
    "    \"\"\"\n",
    "\n",
    "    crop_json = crop_bound.geometry.apply(mapping)\n",
    "\n",
    "    # Clip pixel qa cloud mask layer\n",
    "    cl_mask_crop = pixel_qa.rio.clip(crop_json)\n",
    "\n",
    "    # Calculate NDVI\n",
    "    ndvi_xr = (all_bands[1]-all_bands[0]) / (all_bands[1]+all_bands[0])\n",
    "    # Clip NDVI layer\n",
    "    ndvi_crop = ndvi_xr.rio.clip(crop_json)\n",
    "    \n",
    "    # Apply cloud mask to NDVI\n",
    "    ndvi_crop = ndvi_crop.where(~pixel_qa.isin(vals))\n",
    "\n",
    "    return ndvi_crop"
   ]
  },
  {
   "cell_type": "code",
   "execution_count": null,
   "metadata": {},
   "outputs": [],
   "source": [
    "ndvi_clean = mask_crop_ndvi(all_bands=all_bands,\n",
    "                            crop_bound=crop_bound,\n",
    "                            pixel_qa=cl_mask,\n",
    "                            vals=vals)\n",
    "\n",
    "# View the final, cropped & cleaned NDVI data\n",
    "ndvi_clean.plot.imshow(vmin=-1,\n",
    "                       vmax=1)\n",
    "plt.show()"
   ]
  }
 ],
 "metadata": {
  "celltoolbar": "Tags",
  "hide_code_all_hidden": false,
  "kernelspec": {
   "display_name": "Python 3",
   "language": "python",
   "name": "python3"
  },
  "language_info": {
   "codemirror_mode": {
    "name": "ipython",
    "version": 3
   },
   "file_extension": ".py",
   "mimetype": "text/x-python",
   "name": "python",
   "nbconvert_exporter": "python",
   "pygments_lexer": "ipython3",
   "version": "3.8.5"
  },
  "toc": {
   "base_numbering": 1,
   "nav_menu": {},
   "number_sections": true,
   "sideBar": true,
   "skip_h1_title": false,
   "title_cell": "Table of Contents",
   "title_sidebar": "Contents",
   "toc_cell": false,
   "toc_position": {},
   "toc_section_display": true,
   "toc_window_display": true
  },
  "varInspector": {
   "cols": {
    "lenName": 16,
    "lenType": 16,
    "lenVar": 40
   },
   "kernels_config": {
    "python": {
     "delete_cmd_postfix": "",
     "delete_cmd_prefix": "del ",
     "library": "var_list.py",
     "varRefreshCmd": "print(var_dic_list())"
    },
    "r": {
     "delete_cmd_postfix": ") ",
     "delete_cmd_prefix": "rm(",
     "library": "var_list.r",
     "varRefreshCmd": "cat(var_dic_list()) "
    }
   },
   "types_to_exclude": [
    "module",
    "function",
    "builtin_function_or_method",
    "instance",
    "_Feature"
   ],
   "window_display": false
  }
 },
 "nbformat": 4,
 "nbformat_minor": 2
}
